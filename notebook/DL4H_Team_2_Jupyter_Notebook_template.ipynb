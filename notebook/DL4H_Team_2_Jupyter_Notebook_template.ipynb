{
  "cells": [
    {
      "cell_type": "markdown",
      "metadata": {
        "id": "j01aH0PR4Sg-"
      },
      "source": [
        "# Before you use this template\n",
        "\n",
        "This template is just a recommended template for project Report. It only considers the general type of research in our paper pool. Feel free to edit it to better fit your project. You will iteratively update the same notebook submission for your draft and the final submission. Please check the project rubriks to get a sense of what is expected in the template.\n",
        "\n",
        "---\n",
        "\n",
        "# FAQ and Attentions\n",
        "* Copy and move this template to your Google Drive. Name your notebook by your team ID (upper-left corner). Don't eidt this original file.\n",
        "* This template covers most questions we want to ask about your reproduction experiment. You don't need to exactly follow the template, however, you should address the questions. Please feel free to customize your report accordingly.\n",
        "* any report must have run-able codes and necessary annotations (in text and code comments).\n",
        "* The notebook is like a demo and only uses small-size data (a subset of original data or processed data), the entire runtime of the notebook including data reading, data process, model training, printing, figure plotting, etc,\n",
        "must be within 8 min, otherwise, you may get penalty on the grade.\n",
        "  * If the raw dataset is too large to be loaded  you can select a subset of data and pre-process the data, then, upload the subset or processed data to Google Drive and load them in this notebook.\n",
        "  * If the whole training is too long to run, you can only set the number of training epoch to a small number, e.g., 3, just show that the training is runable.\n",
        "  * For results model validation, you can train the model outside this notebook in advance, then, load pretrained model and use it for validation (display the figures, print the metrics).\n",
        "* The post-process is important! For post-process of the results,please use plots/figures. The code to summarize results and plot figures may be tedious, however, it won't be waste of time since these figures can be used for presentation. While plotting in code, the figures should have titles or captions if necessary (e.g., title your figure with \"Figure 1. xxxx\")\n",
        "* There is not page limit to your notebook report, you can also use separate notebooks for the report, just make sure your grader can access and run/test them.\n",
        "* If you use outside resources, please refer them (in any formats). Include the links to the resources if necessary."
      ]
    },
    {
      "cell_type": "markdown",
      "metadata": {
        "id": "dlv6knX04FiY"
      },
      "source": [
        "# Mount Notebook to Google Drive\n",
        "Upload the data, pretrianed model, figures, etc to your Google Drive, then mount this notebook to Google Drive. After that, you can access the resources freely.\n",
        "\n",
        "Instruction: https://colab.research.google.com/notebooks/io.ipynb\n",
        "\n",
        "Example: https://colab.research.google.com/drive/1srw_HFWQ2SMgmWIawucXfusGzrj1_U0q\n",
        "\n",
        "Video: https://www.youtube.com/watch?v=zc8g8lGcwQU"
      ]
    },
    {
      "cell_type": "code",
      "execution_count": null,
      "metadata": {
        "id": "sfk8Zrul_E8V"
      },
      "outputs": [],
      "source": [
        "from google.colab import drive\n",
        "drive.mount('/content/drive')"
      ]
    },
    {
      "cell_type": "markdown",
      "metadata": {
        "id": "MQ0sNuMePBXx"
      },
      "source": [
        "# Introduction\n",
        "Predicting mortality in sepsis patients is crucial for timely intervention and improved outcomes. Traditional methods often fall short in capturing the complexity of clinical data, leading to suboptimal predictions. Hou et al. (2020) proposed a machine learning approach using the XGBoost algorithm to address this challenge. Their study demonstrates the superiority of XGBoost over traditional methods, providing clinicians with a more accurate tool for identifying high-risk patients and guiding treatment strategies. By leveraging advanced machine learning techniques and clinical data from the MIMIC-III database, the paper offers a significant advancement in mortality prediction in sepsis patients, with implications for improved patient care and outcomes.\n",
        "\n",
        "*   Background of the problem\n",
        "  * what type of problem: The problem addressed in the paper revolves the mortality prediction in sepsis patients, which is a critical aspect of patient care in intensive care units (ICUs).\n",
        "  * what is the importance/meaning of solving the problem: Predicting mortality in sepsis patients is essential for timely intervention and improving patient outcomes. Early identification of high-risk patients allows clinicians to tailor treatment strategies, potentially reducing mortality rates and improving patient care quality.\n",
        "  * what is the difficulty of the problem: Predicting mortality in sepsis patients is challenging due to the complex interplay of various clinical factors and the dynamic nature of the disease. Traditional methods often struggle to capture these complexities accurately, leading to suboptimal predictions.\n",
        "  * the state of the art methods and effectiveness: Traditional methods, including logistic regression and clinical scoring systems, have demonstrated limitations in accurately forecasting mortality in sepsis patients. These conventional approaches often struggle to capture the intricate relationships among various clinical variables and the dynamic nature of the disease process.\n",
        "*   Paper explanation\n",
        "  * what did the paper propose: The paper proposes a binary classification machine learning model based on the XGBoost algorithm for predicting mortality in sepsis patients. It utilizes clinical data from the MIMIC-III database to develop a predictive model that outperforms traditional logistic regression and clinical scoring systems.\n",
        "  * what is the innovations of the method: The innovation lies in the utilization of the XGBoost algorithm, which is a decision-tree-based ensemble learning technique known for its superior performance in predictive tasks. By leveraging advanced machine learning techniques, the proposed method can capture complex patterns in clinical data more effectively, leading to improved mortality predictions.\n",
        "  * how well the proposed method work (in its own metrics): The proposed XGBoost model exhibits remarkable performance, surpassing traditional logistic regression and clinical scoring systems in predicting mortality risk among sepsis patients. The model achieves impressive Area Under the Curve (AUC) scores, with values of 0.857 [95% CI 0.839–0.876] for XGBoost, 0.819 [95% CI 0.800–0.838] for logistic regression, and 0.797 [95% CI 0.781– 0.813] for clinical scoring systems. These metrics underscore the superior discriminatory power of the XGBoost model in distinguishing between survivors and non-survivors.\n",
        "  * what is the contribution to the reasearch regime: The paper significantly contributes to the field of mortality prediction in sepsis patients by introducing a novel binary classification machine learning approach, XGBoost, that outperforms traditional methods. By leveraging advanced techniques and clinical data, the proposed method offers clinicians a more accurate tool for identifying high-risk patients and guiding treatment strategies, ultimately improving patient care and outcomes in ICU settings.\n"
      ]
    },
    {
      "cell_type": "code",
      "execution_count": null,
      "metadata": {
        "id": "ABD4VhFZbehA"
      },
      "outputs": [],
      "source": [
        "# code comment is used as inline annotations for your coding"
      ]
    },
    {
      "cell_type": "markdown",
      "metadata": {
        "id": "uygL9tTPSVHB"
      },
      "source": [
        "# Scope of Reproducibility:\n",
        "\n",
        "List hypotheses from the paper you will test and the corresponding experiments you will run.\n",
        "\n",
        "\n",
        "1.   Hypothesis 1: The XGBoost algorithm, as an ensemble method, is hypothesized to outperform traditional logistic regression in predicting mortality risk in sepsis patients due to its ability to capture complex relationships and interactions among features.\n",
        "2.   Hypothesis 2: The XGBoost model is expected to exhibit superior performance compared to Random Forest because XGBoost utilizes boosting techniques, which focus on correcting errors made by previous models, while Random Forest employs bagging techniques, which involve creating multiple independent models and averaging their predictions.\n",
        "\n",
        "You can insert images in this notebook text, [see this link](https://stackoverflow.com/questions/50670920/how-to-insert-an-inline-image-in-google-colaboratory-from-google-drive) and example below:\n",
        "\n",
        "![sample_image.png](https://drive.google.com/uc?export=view&id=1g2efvsRJDxTxKz-OY3loMhihrEUdBxbc)\n"
      ]
    },
    {
      "cell_type": "markdown",
      "metadata": {
        "id": "LM4WUjz64C3B"
      },
      "source": [
        "\n",
        "You can also use code to display images, see the code below.\n",
        "\n",
        "The images must be saved in Google Drive first.\n"
      ]
    },
    {
      "cell_type": "code",
      "execution_count": null,
      "metadata": {
        "id": "rRksCB1vbYwJ"
      },
      "outputs": [],
      "source": [
        "# no code is required for this section\n",
        "'''\n",
        "if you want to use an image outside this notebook for explanaition,\n",
        "you can upload it to your google drive and show it with OpenCV or matplotlib\n",
        "'''\n",
        "# mount this notebook to your google drive\n",
        "#drive.mount('/content/gdrive')\n",
        "\n",
        "# define dirs to workspace and data\n",
        "#img_dir = '/content/gdrive/My Drive/Colab Notebooks/<path-to-your-image>'\n",
        "\n",
        "#import cv2\n",
        "#img = cv2.imread(img_dir)\n",
        "#cv2.imshow(\"Title\", img)\n"
      ]
    },
    {
      "cell_type": "markdown",
      "metadata": {
        "id": "xWAHJ_1CdtaA"
      },
      "source": [
        "# Methodology\n",
        "\n",
        "This methodology is the core of your project. It consists of run-able codes with necessary annotations to show the expeiment you executed for testing the hypotheses.\n",
        "\n",
        "The methodology at least contains two subsections **data** and **model** in your experiment."
      ]
    },
    {
      "cell_type": "code",
      "execution_count": null,
      "metadata": {
        "id": "yu61Jp1xrnKk"
      },
      "outputs": [],
      "source": [
        "# import  packages you need\n",
        "import numpy as np\n",
        "from google.colab import drive\n",
        "import pandas as pd\n",
        "import matplotlib.pyplot as plt\n",
        "import seaborn as sns\n",
        "from sklearn.model_selection import train_test_split\n",
        "from sklearn import preprocessing\n",
        "from xgboost import XGBClassifier\n",
        "from sklearn.linear_model import LogisticRegression\n",
        "from sklearn.ensemble import RandomForestClassifier\n",
        "from sklearn import metrics\n",
        "from sklearn.metrics import roc_auc_score, roc_curve, accuracy_score, precision_score, recall_score, f1_score, confusion_matrix\n",
        "import pickle\n",
        "import joblib\n",
        "\n",
        "import warnings\n",
        "warnings.filterwarnings('ignore')\n"
      ]
    },
    {
      "cell_type": "markdown",
      "metadata": {
        "id": "2NbPHUTMbkD3"
      },
      "source": [
        "##  Data\n",
        "Data includes raw data (MIMIC III tables), descriptive statistics (our homework questions), and data processing (feature engineering).\n",
        "  * Source of the data: The data for this project is sourced from the MIMIC-III database, version 1.4. MIMIC-III is a publicly available database that contains de-identified health-related data associated with patients who were admitted to critical care units at the Beth Israel Deaconess Medical Center between 2001 and 2012. Access to the MIMIC-III database requires approval from the institutional review board (IRB). This raw data can be found at https://physionet.org/content/mimiciii/1.4/. Additionally, the raw data used in the study is also provided in the supplemental information of the 'Predicting 30-days mortality for MIMIC-III patients with sepsis-3: a machine learning approach using XGboost' paper. The supplemental information can be found at https://translational-medicine.biomedcentral.com/articles/10.1186/s12967-020-02620-5#Sec14. Once you have the data, you can load it directly to this notebook from the drive.\n",
        "  * Statistics: The dataset consists of 4,559 samples with 106 features, indicating that each sample contains information related to various attributes of sepsis-3 patients. Among these samples, there are 889 instances where patients were deceased within 30 days, while 3,670 patients survived within the same timeframe. Additionally, for model training and testing, we employed a 70/30 split, where 70% of the data (3,191 samples) was allocated for training the machine learning model, and the remaining 30% (1,368 samples) was reserved for testing its performance. This split ensures a sufficient amount of data for both training and evaluating the model's predictive capabilities.\n",
        "  * Data process: To manipulate the data, several preprocessing steps were performed to ensure data quality and suitability for machine learning tasks. Initially, duplicate columns were identified and removed to eliminate redundancy, retaining only the first occurrence of each column. This process resulted in the removal of two duplicate columns from the dataset. Additionally, based on the paper, certain features such as 'urineoutput', 'lactate_min', 'bun_mean', 'sysbp_min','metastatic_cancer', 'inr_max', 'age', 'sodium_max', 'aniongap_max', 'creatinine_min', and 'spo2_mean' were selected as independent features, leaving a total of 11 features for analysis. The 'thirtyday_expire_flag' column was designated as the dependent feature, representing the target label for mortality prediction. Also, for each independent fearture, we replaced the missing values with the mean of the non-missing values. Furthermore, the dataset was split into training and testing sets using a random sampling approach. Random sampling ensures that the distribution of classes in the training and testing sets remains unbiased. Specifically, 70% of the data was allocated for training the machine learning model, while the remaining 30% was set aside for evaluating its performance. This division allows for robust model training on a substantial portion of the data while ensuring an independent evaluation of unseen data to assess generalization ability.\n",
        "  * Illustration: printing results, plotting figures for illustration.\n",
        "  * You can upload your raw dataset to Google Drive and mount this Colab to the same directory. If your raw dataset is too large, you can upload the processed dataset and have a code to load the processed dataset."
      ]
    },
    {
      "cell_type": "markdown",
      "metadata": {
        "id": "XzVUQS0CHry0"
      },
      "source": []
    },
    {
      "cell_type": "code",
      "execution_count": null,
      "metadata": {
        "id": "BZScZNbROw-N"
      },
      "outputs": [],
      "source": [
        "# dir and function to load raw data\n",
        "raw_data_dir = '/content/drive/MyDrive/Colab Notebooks/dataset_team2.csv'\n",
        "\n",
        "\n",
        "def load_raw_data(raw_data_dir):\n",
        "  # implement this function to load raw data to dataframe/numpy array/tensor\n",
        "  df = pd.read_csv(raw_data_dir)\n",
        "\n",
        "  return df\n",
        "\n",
        "raw_data = load_raw_data(raw_data_dir)\n",
        "\n",
        "\n",
        "# calculate statistics\n",
        "def calculate_stats(raw_data):\n",
        "  # implement this function to calculate the statistics\n",
        "  # it is encouraged to print out the results\n",
        "  # Print shape of the data\n",
        "  print('Dataset shape: ', raw_data.shape)\n",
        "  # Labels distribution\n",
        "  print('Number of labels in thirtyday_expire_flag:')\n",
        "  print(raw_data.thirtyday_expire_flag.value_counts())\n",
        "  # Visualization of labels distribution\n",
        "  sns.set_style('whitegrid')\n",
        "  ax = sns.countplot(x=raw_data['thirtyday_expire_flag'], order=raw_data['thirtyday_expire_flag'].value_counts().index, palette='rocket_r')\n",
        "  ax.set_title('Figure 1. Distribution of Target Labels')\n",
        "  ax.set_xlabel('Patinets Died within 30 Days')\n",
        "  ax.set_ylabel('Frequency')\n",
        "  sns.despine(bottom=True)\n",
        "  plt.show()\n",
        "\n",
        "  print('Cross-validation split: 70% for training and 30% for testing, and we will perform it in process_data.')\n",
        "\n",
        "  return None\n",
        "\n",
        "calculate_stats(raw_data)\n",
        "\n",
        "\n",
        "# process raw data\n",
        "def process_data(raw_data):\n",
        "  # Drop duplicated columns and keep the first occurrence of each column\n",
        "  # Find columns that end with '.1'\n",
        "  columns_to_drop = [column for column in raw_data.columns if column.endswith('.1')]\n",
        "  print('Number of duplicated columns: ', len(columns_to_drop))\n",
        "  # Drop columns ending with '.1'\n",
        "  raw_data = raw_data.drop(columns=columns_to_drop)\n",
        "  print('Shape of dataset after dropping duplicate columns: ', raw_data.shape)\n",
        "\n",
        "  # Cross validation split\n",
        "  # Features selected in the XGboost model based on the paper\n",
        "  X = raw_data[['urineoutput', 'lactate_min', 'bun_mean', 'sysbp_min',\n",
        "                'metastatic_cancer', 'inr_max', 'age', 'sodium_max',\n",
        "                'aniongap_max', 'creatinine_min', 'spo2_mean']]\n",
        "  print('Number of indepenedt features selected based on the paper: ', len(X.columns))\n",
        "  # Count the number of missing values in each column\n",
        "  missing_values_count = X.isnull().sum()\n",
        "  # Print the number of missing values in each column\n",
        "  print('Number of missing values in each column:')\n",
        "  print(missing_values_count)\n",
        "  # Replace the missing values with the mean of the non-missing values in each column\n",
        "  X = X.fillna(X.mean())\n",
        "  print('Replaced missing values with the mean of the non-missing values in each column.')\n",
        "  # Split data using random sampling: 70% for training and 30% for testing\n",
        "  x_train, x_test, y_train, y_test = train_test_split(X, raw_data.thirtyday_expire_flag,\n",
        "                                                    test_size=0.30, random_state=42)\n",
        "  print('Cross-validation split: 70% of data is allocated for training and 30% for testing')\n",
        "\n",
        "  return raw_data, x_train, x_test, y_train, y_test\n",
        "\n",
        "\n",
        "raw_data, x_train, x_test, y_train, y_test = process_data(raw_data)"
      ]
    },
    {
      "cell_type": "markdown",
      "metadata": {
        "id": "3muyDPFPbozY"
      },
      "source": [
        "##   Model\n",
        "The model includes the model definitation which usually is a class, model training, and other necessary parts.\n",
        "  * Model architecture: layer number/size/type, activation function, etc: The XGBoost model is an ensemble of decision trees. In this specific implementation, it consists of 100 decision trees (n_estimators=100) with a maximum depth of 3 (max_depth=3). Each tree is trained using gradient boosting. The learning rate is set to 0.1 (learning_rate=0.1), controlling the contribution of each tree to the final prediction. The Logistic Regression is a linear model with a logistic (sigmoid) activation function. In this implementation, the regularization strength (C) is set to 100, and the penalty term is L1 regularization (penalty='l1'). The solver used to optimize the model parameters is 'liblinear'. The Random Forest is an ensemble learning method that constructs multiple decision trees during training. In this implementation, the number of decision trees in the forest is set to 200 (n_estimators=200). Each tree has a maximum depth of 4 (max_depth=4). The minimum number of samples required to split an internal node is set to 2 (min_samples_split=2), and the minimum number of samples required to be at a leaf node is set to 4 (min_samples_leaf=4). Additionally, we implemented GridSearchCV for each model locally to fine-tune model parameters. This allowed us to identify the best parameters for each model based on the AUC score, optimizing their performance.\n",
        "  * Training objectives: XGBoost minimizes a loss function that quantifies the difference between the predicted values and the actual target values. The specific loss function used depends on the objective parameter passed to the XGBoost model ('binary:logistic' for binary classification). As this is a binary classification task, the model minimizes the binary logistic loss by default. Logistic Regression minimizes the logistic loss function, also known as the cross-entropy loss, which measures the difference between the predicted probabilities and the actual binary labels. Random Forest minimizes the impurity criterion (e.g., Gini impurity) during tree construction to make splits that lead to the greatest reduction in impurity. The main focus in this section is on ensuring that the models are not underfitted, based on their performance metrics on train set. The XGBoost model exhibits impressive results, with an AUC of 0.893, accuracy of 0.869, precision of 0.851, recall of 0.409, and F1-Score of 0.552. These metrics indicate strong discriminative ability, high overall accuracy, and a good balance between precision and recall, suggesting that the model effectively captures both true positive and true negative cases. Similarly, the Logistic Regression model demonstrates commendable performance, with an AUC of 0.79, accuracy of 0.837, precision of 0.725, recall of 0.277, and F1-Score of 0.4. While the recall is relatively lower compared to the XGBoost model, the other metrics indicate a well-performing classifier. Additionally, the Random Forest model achieves competitive metrics, with an AUC of 0.828, accuracy of 0.84, precision of 0.905, recall of 0.213, and F1-Score of 0.345. Despite a lower recall, the model demonstrates strong discriminative ability and high precision, suggesting effective identification of true positive cases. Overall, these metrics collectively indicate that all models exhibit strong predictive performance without being underfitted, with the XGBoost model standing out as the top performer across multiple metrics.\n",
        "  * Others: whether the model is pretrained, Monte Carlo simulation for uncertainty analysis, etc: In this script, none of the models, including XGBoost, Logistic Regression, and Random Forests, are pretrained models. However, in this case, the models are trained directly on the provided dataset during the execution of this script. Additionally, there is no mention of Monte Carlo simulation for uncertainty analysis in the provided code. Such simulation is not utilized in the training or evaluation of the models presented in this script.\n",
        "  * The code of model should have classes of the model, functions of model training, model validation, etc: The provided code defines a class my_model which encapsulates the model training functionality for three different classifiers: XGBoost, Logistic Regression, and Random Forest. Additionally, for model evaluation, the code utilizes print_metrics function to display the performance metrics such as accuracy, precision, recall, and F1-score for each model on train data.\n",
        "  * If your model training is done outside of this notebook, please upload the trained model here and develop a function to load and test it: The models, including XGBoost, Logistic Regression, and Random Forest, are trained within this script using the code provided. The random_state parameter is specifically set to maintain reproducibility across runs. According to the assignment instructions, we have commented out all the training code in the notebook and will load the model for testing from the drive."
      ]
    },
    {
      "cell_type": "code",
      "source": [
        "# Computation Requirements:\n",
        "# For this experiment, we utilized Google Colab's default CPU instance to execute the model training and evaluation scripts.\n",
        "# According to https://saturncloud.io/blog/whats-the-hardware-spec-for-google-colaboratory/#:~:text=CPU%20and%20RAM,-The%20CPU%20(Central&text=The%20default%20CPU%20for%20Colab,vCPUs%20and%20624GB%20of%20RAM.\n",
        "# The default CPU for Google Colab is an Intel Xeon CPU with 2 vCPUs (virtual CPUs) and 13GB of RAM."
      ],
      "metadata": {
        "id": "abRLfXMiLlKE"
      },
      "execution_count": null,
      "outputs": []
    },
    {
      "cell_type": "code",
      "execution_count": null,
      "metadata": {
        "id": "gBdVZoTvsSFV"
      },
      "outputs": [],
      "source": [
        "# # Model class\n",
        "# class my_model():\n",
        "#   def __init__(self):\n",
        "#         pass\n",
        "\n",
        "#   # use this class to define your model\n",
        "#   def train_models(self, x_train, x_test, y_train, y_test):\n",
        "#     # XGBoost\n",
        "#     # Load model\n",
        "#     model_xgb = XGBClassifier(n_estimators=100, max_depth=3, learning_rate=0.1, random_state=42)\n",
        "#     # Train model\n",
        "#     model_xgb.fit(x_train, y_train)\n",
        "\n",
        "#     # Logistic Regression\n",
        "#     # Load model\n",
        "#     model_logistic = LogisticRegression(C=100, penalty='l1', solver='liblinear', random_state=42)\n",
        "#     # Train model\n",
        "#     model_logistic.fit(x_train, y_train)\n",
        "\n",
        "#     # Random Forest\n",
        "#     # Load model\n",
        "#     model_rf = RandomForestClassifier(max_depth=4, min_samples_leaf=4, min_samples_split=2, n_estimators=200, random_state=42)\n",
        "#     # Train model\n",
        "#     model_rf.fit(x_train, y_train)\n",
        "\n",
        "#     return model_xgb, model_logistic, model_rf\n",
        "\n",
        "# # Create an instance of the class\n",
        "# model = my_model()\n",
        "\n",
        "# # Train all models\n",
        "# model_xgb, model_logistic, model_rf = model.train_models(x_train, x_test, y_train, y_test)\n",
        "\n",
        "\n",
        "# # Save XGBoost model to Google Drive\n",
        "# with open('/content/drive/My Drive/Colab Notebooks/xgboost_model.pkl', 'wb') as file:\n",
        "#     pickle.dump(model_xgb, file)\n",
        "# # Save Logistic Regression model to Google Drive\n",
        "# with open('/content/drive/My Drive/Colab Notebooks/logistic_regression_model.pkl', 'wb') as file:\n",
        "#     pickle.dump(model_logistic, file)\n",
        "# # Save Random Forest model to Google Drive\n",
        "# with open('/content/drive/My Drive/Colab Notebooks/random_forest_model.pkl', 'wb') as file:\n",
        "#     pickle.dump(model_rf, file)\n",
        "\n",
        "\n",
        "# For XGBoost, Logistic Regression, and Random Forest, we don't use the following like we do in deep learning.\n",
        "# loss_func = None\n",
        "# optimizer = None\n",
        "# def train_model_one_iter(model, loss_func, optimizer):\n",
        "#   pass\n",
        "# num_epoch = 10\n",
        "# # model training loop: it is better to print the training/validation losses during the training\n",
        "# for i in range(num_epoch):\n",
        "#   train_model_one_iter(model, loss_func, optimizer)\n",
        "#   train_loss, valid_loss = None, None\n",
        "#   print(\"Train Loss: %.2f, Validation Loss: %.2f\" % (train_loss, valid_loss))\n",
        "\n",
        "\n",
        "# Load XGBoost model from drive\n",
        "with open('/content/drive/My Drive/Colab Notebooks/xgboost_model.pkl', 'rb') as file:\n",
        "    model_xgb = pickle.load(file)\n",
        "# Load Logistic Regression model from drive\n",
        "with open('/content/drive/My Drive/Colab Notebooks/logistic_regression_model.pkl', 'rb') as file:\n",
        "    model_logistic = pickle.load(file)\n",
        "# Load Random Forest model from drive\n",
        "with open('/content/drive/My Drive/Colab Notebooks/random_forest_model.pkl', 'rb') as file:\n",
        "    model_rf = pickle.load(file)\n",
        "\n",
        "\n",
        "# Define a function to calculate and print metrics\n",
        "def print_metrics(y_true, y_pred, y_pred_proba, model_name):\n",
        "  # Calculate evaluation metrics\n",
        "  auc = roc_auc_score(y_true, y_pred_proba)\n",
        "  accuracy = accuracy_score(y_true, y_pred)\n",
        "  precision = precision_score(y_true, y_pred)\n",
        "  recall = recall_score(y_true, y_pred)\n",
        "  f1 = f1_score(y_true, y_pred)\n",
        "  cm = confusion_matrix(y_true, y_pred)\n",
        "\n",
        "  # Round the metrics\n",
        "  auc = round(auc, 3)\n",
        "  accuracy = round(accuracy, 3)\n",
        "  precision = round(precision, 3)\n",
        "  recall = round(recall, 3)\n",
        "  f1 = round(f1, 3)\n",
        "\n",
        "  print('Metrics for', model_name)\n",
        "  print('AUC:', auc)\n",
        "  print('Accuracy:', accuracy)\n",
        "  print('Precision:', precision)\n",
        "  print('Recall:', recall)\n",
        "  print('F1-Score:', f1)\n",
        "  print('Confusion Matrix:\\n', cm)\n",
        "  print('\\n')\n",
        "\n",
        "  metrics_dict = {'Model': model_name,\n",
        "                    'AUC': auc,\n",
        "                    'Accuracy': accuracy,\n",
        "                    'Precision': precision,\n",
        "                    'Recall': recall,\n",
        "                    'F1-Score': f1}\n",
        "\n",
        "  return metrics_dict\n",
        "\n",
        "\n",
        "# Calculate performance metrics for XGBoost on train data\n",
        "y_train_pred_xgb = model_xgb.predict(x_train)\n",
        "y_train_pred_proba_xgb = model_xgb.predict_proba(x_train)[:, 1]\n",
        "train_metrics_xgb = print_metrics(y_train, y_train_pred_xgb, y_train_pred_proba_xgb, 'XGBoost')\n",
        "\n",
        "# Calculate performance metrics for Logistic Regression on train data\n",
        "y_train_pred_logistic = model_logistic.predict(x_train)\n",
        "y_train_pred_proba_logistic = model_logistic.predict_proba(x_train)[:, 1]\n",
        "train_metrics_logistic = print_metrics(y_train, y_train_pred_logistic, y_train_pred_proba_logistic, 'Logistic Regression')\n",
        "\n",
        "# Calculate performance metrics for Random Forest on train data\n",
        "y_train_pred_rf = model_rf.predict(x_train)\n",
        "y_train_pred_proba_rf = model_rf.predict_proba(x_train)[:, 1]\n",
        "train_metrics_rf = print_metrics(y_train, y_train_pred_rf, y_train_pred_proba_rf, 'Random Forest')"
      ]
    },
    {
      "cell_type": "markdown",
      "metadata": {
        "id": "gX6bCcZNuxmz"
      },
      "source": [
        "# Results\n",
        "In this section, you should finish training your model training or loading your trained model. That is a great experiment! You should share the results with others with necessary metrics and figures.\n",
        "\n",
        "Please test and report results for all experiments that you run with:\n",
        "\n",
        "*   specific numbers (accuracy, AUC, RMSE, etc): In this section, the focus is on ensuring that the models are not overfitted, based on their performance metrics on test set. For model evaluation, we used print_metrics function to display the performance metrics such as accuracy, precision, recall, and F1-score for each model on test data. Based on evaluation results, we obtained the following performance metrics: for the XGBoost model, we achieved an AUC of 0.83, indicating good discriminative ability. The accuracy stood at 0.855. Precision and recall were 0.746 and 0.362, respectively. The F1-Score was 0.487. The confusion matrix revealed 1076 true negatives, 32 false positives, 166 false negatives, and 94 true positives. Similarly, for the Logistic Regression model, we achieved an AUC of 0.787 and an accuracy of 0.841. The precision and recall were 0.702 and 0.281, respectively, resulting in an F1-Score of 0.401. The confusion matrix showed 1077 true negatives, 31 false positives, 187 false negatives, and 73 true positives. Finally, the Random Forest model yielded an AUC of  0.807 and an accuracy of 0.843. Notably, the precision was high at 0.895, but the recall was relatively low at 0.196, leading to an F1-Score of 0.322. The confusion matrix indicated 1102 true negatives, 6 false positives, 209 false negatives, and 51 true positives.\n",
        "*   figures (loss shrinkage, outputs from GAN, annotation or label of sample pictures, etc): In addition to the performance metrics, below, we have included visual representations to further illustrate the results of our experiments. Specifically, we have incorporated figures depicting the AUC curves for each model, offering a graphical depiction of their discriminative ability. Additionally, bar graphs have been included to visually compare the accuracy, precision, recall, and F1-score of all three models. These visualizations provide a comprehensive overview of the comparative performance of the XGBoost, Logistic Regression, and Random Forest models in predicting mortality risk in sepsis patients.\n"
      ]
    },
    {
      "cell_type": "code",
      "execution_count": null,
      "metadata": {
        "id": "LjW9bCkouv8O"
      },
      "outputs": [],
      "source": [
        "# Load XGBoost model from drive\n",
        "with open('/content/drive/My Drive/Colab Notebooks/xgboost_model.pkl', 'rb') as file:\n",
        "    model_xgb = pickle.load(file)\n",
        "# Load Logistic Regression model from drive\n",
        "with open('/content/drive/My Drive/Colab Notebooks/logistic_regression_model.pkl', 'rb') as file:\n",
        "    model_logistic = pickle.load(file)\n",
        "# Load Random Forest model from drive\n",
        "with open('/content/drive/My Drive/Colab Notebooks/random_forest_model.pkl', 'rb') as file:\n",
        "    model_rf = pickle.load(file)\n",
        "\n",
        "\n",
        "# Function to run model on test data\n",
        "def run_model_test_data(trained_model):\n",
        "  # Predict the labels for the test data\n",
        "  y_pred = trained_model.predict(x_test)\n",
        "  # Predict probabilities for the test data\n",
        "  y_pred_proba = trained_model.predict_proba(x_test)[:, 1]\n",
        "\n",
        "  return y_pred, y_pred_proba\n",
        "\n",
        "# Run model on test data XGBoost\n",
        "y_pred_xgb, y_pred_proba_xgb = run_model_test_data(model_xgb)\n",
        "# Run model on test data Logistic Regression\n",
        "y_pred_logistic, y_pred_proba_logistic = run_model_test_data(model_logistic)\n",
        "# Run model on test data Random Forest\n",
        "y_pred_rf, y_pred_proba_rf = run_model_test_data(model_rf)\n",
        "\n",
        "\n",
        "# Calculate metrics for XGBoost test set\n",
        "metrics_xgb = print_metrics(y_test, y_pred_xgb, y_pred_proba_xgb, 'XGBoost')\n",
        "# Calculate metrics for Logistic Regression test set\n",
        "metrics_logistic = print_metrics(y_test, y_pred_logistic, y_pred_proba_logistic, 'Logistic Regression')\n",
        "# Calculate metrics for Random Forest test set\n",
        "metrics_rf = print_metrics(y_test, y_pred_rf, y_pred_proba_rf, 'Random Forest')\n",
        "\n",
        "\n",
        "# plot figures to better show the results\n",
        "# Combine metrics into a DataFrame\n",
        "metrics_df = pd.DataFrame([metrics_xgb, metrics_logistic, metrics_rf])\n",
        "\n",
        "# Define metrics to plot\n",
        "metrics_to_plot = ['Accuracy', 'Precision', 'Recall', 'F1-Score']\n",
        "\n",
        "# Plot individual graphs for each metric\n",
        "# Define a function to plot ROC curves\n",
        "def plot_roc_curves(y_true, y_pred_proba, model_name, fig_label):\n",
        "    fpr, tpr, _ = roc_curve(y_true, y_pred_proba)\n",
        "    auc_value = metrics_df.loc[metrics_df['Model'] == model_name, 'AUC'].values[0]\n",
        "\n",
        "    plt.figure(figsize=(8, 6))\n",
        "    plt.plot(fpr, tpr, label=model_name)\n",
        "\n",
        "    # Plot the diagonal line (gray line)\n",
        "    plt.plot([0, 1], [0, 1], linestyle='--', color='gray')\n",
        "\n",
        "    # Fill area under the curve\n",
        "    plt.fill_between(fpr, tpr, alpha=0.3)\n",
        "\n",
        "    plt.xlabel('False Positive Rate')\n",
        "    plt.ylabel('True Positive Rate')\n",
        "    plt.title(fig_label + ' ROC Curve for ' + model_name)\n",
        "    plt.grid(True)\n",
        "\n",
        "    # Annotate AUC value\n",
        "    plt.text(0.6, 0.2, 'AUC = {:.2f}'.format(auc_value), fontsize=12, bbox=dict(facecolor='white', alpha=0.5))\n",
        "    plt.show()\n",
        "\n",
        "\n",
        "# Plot ROC curves for XGBoost\n",
        "plot_roc_curves(y_test, y_pred_proba_xgb, 'XGBoost', 'Figure 2:')\n",
        "# Plot ROC curves for Logistic Regression\n",
        "plot_roc_curves(y_test, y_pred_proba_logistic, 'Logistic Regression', 'Figure 3:')\n",
        "# Plot ROC curves for Random Forest\n",
        "plot_roc_curves(y_test, y_pred_proba_rf, 'Random Forest', 'Figure 4:')\n",
        "\n",
        "\n",
        "# Plot other metrics\n",
        "fig_index = 4\n",
        "for metric in metrics_to_plot:\n",
        "    fig_index += 1\n",
        "    plt.figure(figsize=(8, 6))\n",
        "    plt.bar(metrics_df['Model'], metrics_df[metric], color=['blue', 'orange', 'green'], width=0.2)\n",
        "    plt.title('Figure {}: {} Comparison for XGBoost, Logistic Regression, and Random Forest'.format(fig_index, metric))\n",
        "    plt.xlabel('Model')\n",
        "    plt.ylabel(metric)\n",
        "    plt.grid(axis='y')\n",
        "    # Increase y-axis limit by 20% more than the maximum value\n",
        "    plt.ylim(0, 1.2 * max(metrics_df[metric]))\n",
        "    plt.tight_layout()\n",
        "    plt.show()\n",
        "\n",
        "# it is better to save the numbers and figures for your presentation."
      ]
    },
    {
      "cell_type": "markdown",
      "metadata": {
        "id": "8EAWAy_LwHlV"
      },
      "source": [
        "## Model comparison"
      ]
    },
    {
      "cell_type": "code",
      "execution_count": null,
      "metadata": {
        "id": "uOdhGrbwwG71"
      },
      "outputs": [],
      "source": [
        "# compare you model with others\n",
        "# you don't need to re-run all other experiments, instead, you can directly refer the metrics/numbers in the paper\n",
        "\n",
        "# Our results closely aligned with those reported in the paper, confirming the reproducibility of their findings.\n",
        "# Specifically, our XGBoost model achieved an AUC value of 0.83, falling within the reported range of [95% CI 0.839–0.876].\n",
        "# Notably, our XGBoost model outperformed the SAPS-II score model reported in the paper, demonstrating its superior predictive performance.\n",
        "# Additionally, compared to the Logistic Regression model, our XGBoost model exhibited higher AUC (0.83 vs. 0.787).\n",
        "# Furthermore, our XGBoost model surpassed the Random Forest model in terms of AUC (0.83 vs. 0.807)."
      ]
    },
    {
      "cell_type": "markdown",
      "metadata": {
        "id": "qH75TNU71eRH"
      },
      "source": [
        "# Discussion\n",
        "\n",
        "In this section,you should discuss your work and make future plan. The discussion should address the following questions:\n",
        "  * Make assessment that the paper is reproducible or not:  The paper's results were indeed reproducible, as demonstrated by our closely aligned findings. Our XGBoost model achieved an AUC value of 0.83, which falls within the reported AUC range of [95% CI 0.839–0.876] for XGBoost in the paper. This consistency with the paper's results indicates reproducibility and validates the reliability of the findings. Furthermore, our XGBoost model, developed within this script, outperformed the reported SAPS-II score model [95% CI 0.781–0.813] in the paper, showcasing its superiority in predictive performance. Additionally, when compared to the Logistic Regression model trained in this script, our XGBoost model demonstrated a higher AUC (0.83 vs. 0.787), accuracy (0.855 vs. 0.841), and F1-Score (0.487 vs. 0.401). These results validate Hypothesis 1, suggesting that the ensemble nature of XGBoost aids in capturing complex relationships within the data, resulting in improved predictive performance. Moreover, our XGBoost model exhibited superior performance compared to the Random Forest model, particularly in terms of AUC (0.83 vs. 0.807), accuracy (0.855 vs. 0.843), and F1-Score (0.487 vs. 0.322). This aligns with Hypothesis 2, which proposed that the boosting techniques employed by XGBoost would outperform the bagging techniques utilized by Random Forest in predicting mortality risk in sepsis patients.\n",
        "  * Explain why it is not reproducible if your results are kind negative: Since our results were reproducible and aligned closely with the findings reported in the paper, there are no issues regarding reproducibility in this context.\n",
        "  * Describe “What was easy” and “What was difficult” during the reproduction: During the reproduction process, accessing the dataset and implementing the machine learning model were relatively straightforward tasks. The availability of the MIMIC-III database facilitated easy access to the required data, and the implementation of the XGBoost algorithm was smooth due to the comprehensive documentation available for the library. However, one of the difficulties encountered was related to parameter tuning for the XGBoost model. The absence of detailed information on the specific hyperparameters used in the paper posed a significant challenge during the reproduction process. Without clear guidance on the model's configuration, we were forced to undertake additional experimentation and exploration to optimize the parameters effectively. This unexpected hurdle consumed more time and effort than initially anticipated. Moreover, the lack of code sharing by the authors exacerbated the situation. The unavailability of their codebase prevented us from directly inspecting their implementation details, depriving us of valuable insights that could have expedited our replication efforts.\n",
        "  * Make suggestions to the author or other reproducers on how to improve the reproducibility: To enhance reproducibility, we recommend that authors or other reproducers provide comprehensive details on parameter tuning methodologies. We utilized techniques such as GridSearchCV with scoring='roc_auc_score' to identify the optimal hyperparameters for reproducing the paper's results accurately.\n",
        "  * What will you do in next phase: In the next phase of our project, we will focus on completing the final report and video presentation. Furthermore, we intend to investigate opportunities for contributing to the PyHealth library, using our project as a practical example to showcase the library's functionalities in healthcare machine learning."
      ]
    },
    {
      "cell_type": "code",
      "execution_count": null,
      "metadata": {
        "id": "E2VDXo5F4Frm"
      },
      "outputs": [],
      "source": [
        "# no code is required for this section\n",
        "'''\n",
        "if you want to use an image outside this notebook for explanaition,\n",
        "you can read and plot it here like the Scope of Reproducibility\n",
        "'''"
      ]
    },
    {
      "cell_type": "markdown",
      "metadata": {
        "id": "SHMI2chl9omn"
      },
      "source": [
        "# References\n",
        "\n",
        "1.   Hou, N., Li, M., Hé, L., Xie, B., Wang, L., Zhang, R., Yan, Y., Sun, X., Pan, Z., & Wang, K. (2020, December 1). Predicting 30-days mortality for MIMIC-III patients with sepsis-3: a machine learning approach using XGboost. Journal of Translational Medicine. https://doi.org/10.1186/s12967-020-02620-5\n",
        "\n"
      ]
    },
    {
      "cell_type": "markdown",
      "metadata": {
        "id": "xmVuzQ724HbO"
      },
      "source": [
        "# Feel free to add new sections"
      ]
    }
  ],
  "metadata": {
    "colab": {
      "private_outputs": true,
      "provenance": []
    },
    "kernelspec": {
      "display_name": "Python 3",
      "language": "python",
      "name": "python3"
    },
    "language_info": {
      "codemirror_mode": {
        "name": "ipython",
        "version": 3
      },
      "file_extension": ".py",
      "mimetype": "text/x-python",
      "name": "python",
      "nbconvert_exporter": "python",
      "pygments_lexer": "ipython3",
      "version": "3.7.7"
    }
  },
  "nbformat": 4,
  "nbformat_minor": 0
}